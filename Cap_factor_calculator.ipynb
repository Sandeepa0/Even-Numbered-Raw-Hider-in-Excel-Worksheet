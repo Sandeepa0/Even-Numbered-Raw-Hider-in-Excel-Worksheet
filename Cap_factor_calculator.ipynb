{
  "nbformat": 4,
  "nbformat_minor": 0,
  "metadata": {
    "colab": {
      "provenance": [],
      "authorship_tag": "ABX9TyPBqBsRO1aOKqDpSLvB+qBA",
      "include_colab_link": true
    },
    "kernelspec": {
      "name": "python3",
      "display_name": "Python 3"
    },
    "language_info": {
      "name": "python"
    }
  },
  "cells": [
    {
      "cell_type": "markdown",
      "metadata": {
        "id": "view-in-github",
        "colab_type": "text"
      },
      "source": [
        "<a href=\"https://colab.research.google.com/github/Sandeepa0/Even-Numbered-Raw-Hider-in-Excel-Worksheet/blob/main/Cap_factor_calculator.ipynb\" target=\"_parent\"><img src=\"https://colab.research.google.com/assets/colab-badge.svg\" alt=\"Open In Colab\"/></a>"
      ]
    },
    {
      "cell_type": "code",
      "execution_count": null,
      "metadata": {
        "id": "LmAhYRghbzHm"
      },
      "outputs": [],
      "source": [
        "import pandas as pd\n",
        "\n",
        "def calculate_capacity_factor_from_excel(file_path, max_capacity=100000):\n",
        "    \"\"\"\n",
        "    Calculate the capacity factor from an Excel file containing hourly power data.\n",
        "\n",
        "    Parameters:\n",
        "    - file_path: Path to the Excel file.\n",
        "    - max_capacity: Maximum capacity of the power plant in kW (default: 100,000 kW).\n",
        "\n",
        "    Returns:\n",
        "    - capacity_factor: The calculated capacity factor as a percentage.\n",
        "    \"\"\"\n",
        "    # Load the Excel file\n",
        "    df = pd.read_excel(file_path)\n",
        "\n",
        "    # Ensure the column names match the structure\n",
        "    hourly_power_data = df[\"System Power Generated | (kW)\"]  # Column B\n",
        "\n",
        "    # Total energy produced in the year (sum of hourly power data)\n",
        "    total_energy_produced = hourly_power_data.sum()  # in kWh\n",
        "\n",
        "    # Maximum possible energy in the year\n",
        "    max_possible_energy = max_capacity * 8760  # 8760 hours in a year\n",
        "\n",
        "    # Calculate capacity factor\n",
        "    capacity_factor = (total_energy_produced / max_possible_energy) * 100\n",
        "\n",
        "    return capacity_factor\n",
        "\n",
        "# Usage\n",
        "excel_file_path = \"/mnt/data/YourExcelFile.xlsx\"  # Replace with the actual path to your Excel file\n",
        "max_capacity = 100000  # Maximum capacity of the plant in kW\n",
        "\n",
        "# Calculate and display the capacity factor\n",
        "capacity_factor = calculate_capacity_factor_from_excel(excel_file_path, max_capacity)\n",
        "print(f\"Capacity Factor: {capacity_factor:.2f}%\")\n"
      ]
    }
  ]
}