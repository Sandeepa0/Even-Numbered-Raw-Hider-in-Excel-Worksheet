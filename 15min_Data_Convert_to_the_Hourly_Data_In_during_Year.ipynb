{
  "nbformat": 4,
  "nbformat_minor": 0,
  "metadata": {
    "colab": {
      "provenance": [],
      "authorship_tag": "ABX9TyOd9P8SWJncBP4Ydi47R+zr",
      "include_colab_link": true
    },
    "kernelspec": {
      "name": "python3",
      "display_name": "Python 3"
    },
    "language_info": {
      "name": "python"
    }
  },
  "cells": [
    {
      "cell_type": "markdown",
      "metadata": {
        "id": "view-in-github",
        "colab_type": "text"
      },
      "source": [
        "<a href=\"https://colab.research.google.com/github/Sandeepa0/Even-Numbered-Raw-Hider-in-Excel-Worksheet/blob/main/15min_Data_Convert_to_the_Hourly_Data_In_during_Year.ipynb\" target=\"_parent\"><img src=\"https://colab.research.google.com/assets/colab-badge.svg\" alt=\"Open In Colab\"/></a>"
      ]
    },
    {
      "cell_type": "code",
      "source": [
        "import pandas as pd\n",
        "\n",
        "# Load the CSV file\n",
        "file_path = \"SAM_100MW_Floating_Solar_System_Project_VC0_HourlyRes_1.csv\"  # Replace with your file path\n",
        "df = pd.read_csv(file_path)\n",
        "\n",
        "# Define groups of rows to hide (3,4,5), (7,8,9), etc.\n",
        "rows_to_hide = []\n",
        "start_row = 2\n",
        "group_size = 3\n",
        "increment = group_size + 1\n",
        "\n",
        "for i in range(start_row - 1, len(df), increment):\n",
        "    rows_to_hide.extend(range(i, i + group_size))\n",
        "\n",
        "# Ensure rows are within bounds\n",
        "rows_to_hide = [i for i in rows_to_hide if i < len(df)]\n",
        "\n",
        "# Drop the rows\n",
        "df_filtered = df.drop(rows_to_hide)\n",
        "\n",
        "# Save the filtered DataFrame back to CSV\n",
        "updated_file_path = \"updated_Generation data 2.csv\"\n",
        "df_filtered.to_csv(updated_file_path, index=False)\n",
        "\n",
        "print(f\"Rows in groups like (3,4,5), (7,8,9) have been removed and saved as {updated_file_path}!\")\n"
      ],
      "metadata": {
        "colab": {
          "base_uri": "https://localhost:8080/"
        },
        "id": "onN5QXPMWKw_",
        "outputId": "1f093775-1981-48cf-f5a4-2a995d650ec6"
      },
      "execution_count": 4,
      "outputs": [
        {
          "output_type": "stream",
          "name": "stdout",
          "text": [
            "Rows in groups like (3,4,5), (7,8,9) have been removed and saved as updated_Generation data 2.csv!\n"
          ]
        }
      ]
    }
  ]
}